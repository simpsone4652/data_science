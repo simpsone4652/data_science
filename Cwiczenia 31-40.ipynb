{
  "nbformat": 4,
  "nbformat_minor": 0,
  "metadata": {
    "colab": {
      "provenance": [],
      "authorship_tag": "ABX9TyNIN7M7DOtEMKq13Lj1Iugr",
      "include_colab_link": true
    },
    "kernelspec": {
      "name": "python3",
      "display_name": "Python 3"
    },
    "language_info": {
      "name": "python"
    }
  },
  "cells": [
    {
      "cell_type": "markdown",
      "metadata": {
        "id": "view-in-github",
        "colab_type": "text"
      },
      "source": [
        "<a href=\"https://colab.research.google.com/github/simpsone4652/data_science/blob/main/Cwiczenia%2031-40.ipynb\" target=\"_parent\"><img src=\"https://colab.research.google.com/assets/colab-badge.svg\" alt=\"Open In Colab\"/></a>"
      ]
    },
    {
      "cell_type": "markdown",
      "source": [
        "CWICZENIE 31"
      ],
      "metadata": {
        "id": "bydYD4P2_1Sz"
      }
    },
    {
      "cell_type": "code",
      "execution_count": null,
      "metadata": {
        "colab": {
          "base_uri": "https://localhost:8080/",
          "height": 200
        },
        "id": "N6PNNro5_0pD",
        "outputId": "9393da71-4d1e-4c68-879d-88893e4d9be5"
      },
      "outputs": [
        {
          "output_type": "error",
          "ename": "IndexError",
          "evalue": "ignored",
          "traceback": [
            "\u001b[0;31m---------------------------------------------------------------------------\u001b[0m",
            "\u001b[0;31mIndexError\u001b[0m                                Traceback (most recent call last)",
            "\u001b[0;32m<ipython-input-8-e28977544ad2>\u001b[0m in \u001b[0;36m<module>\u001b[0;34m\u001b[0m\n\u001b[1;32m     15\u001b[0m \u001b[0mX_train\u001b[0m\u001b[0;34m,\u001b[0m \u001b[0mX_test\u001b[0m\u001b[0;34m,\u001b[0m \u001b[0my_train\u001b[0m\u001b[0;34m,\u001b[0m \u001b[0my_test\u001b[0m \u001b[0;34m=\u001b[0m \u001b[0mtrain_test_split\u001b[0m\u001b[0;34m(\u001b[0m\u001b[0mdata\u001b[0m\u001b[0;34m,\u001b[0m \u001b[0mtarget\u001b[0m\u001b[0;34m,\u001b[0m \u001b[0mrandom_state\u001b[0m\u001b[0;34m=\u001b[0m\u001b[0;36m40\u001b[0m\u001b[0;34m,\u001b[0m \u001b[0mtest_size\u001b[0m\u001b[0;34m=\u001b[0m\u001b[0;36m0.25\u001b[0m\u001b[0;34m)\u001b[0m\u001b[0;34m\u001b[0m\u001b[0;34m\u001b[0m\u001b[0m\n\u001b[1;32m     16\u001b[0m \u001b[0;34m\u001b[0m\u001b[0m\n\u001b[0;32m---> 17\u001b[0;31m \u001b[0mprint\u001b[0m\u001b[0;34m(\u001b[0m\u001b[0mnp\u001b[0m\u001b[0;34m.\u001b[0m\u001b[0munique\u001b[0m\u001b[0;34m(\u001b[0m\u001b[0mtarget\u001b[0m\u001b[0;34m[\u001b[0m\u001b[0;34m'target'\u001b[0m\u001b[0;34m]\u001b[0m\u001b[0;34m)\u001b[0m\u001b[0;34m)\u001b[0m\u001b[0;34m\u001b[0m\u001b[0;34m\u001b[0m\u001b[0m\n\u001b[0m",
            "\u001b[0;31mIndexError\u001b[0m: only integers, slices (`:`), ellipsis (`...`), numpy.newaxis (`None`) and integer or boolean arrays are valid indices"
          ]
        }
      ],
      "source": [
        "import numpy as np\n",
        "import pandas as pd\n",
        "from sklearn.datasets import load_breast_cancer\n",
        "from sklearn.model_selection import train_test_split\n",
        "\n",
        "\n",
        "pd.set_option('display.max_columns', 10)\n",
        "pd.set_option('display.width', 200)\n",
        "np.set_printoptions(precision=2, suppress=True, linewidth=100)\n",
        "raw_data = load_breast_cancer()\n",
        "\n",
        "data = raw_data['data']\n",
        "target = raw_data['target']\n",
        "\n",
        "X_train, X_test, y_train, y_test = train_test_split(data, target, random_state=40, test_size=0.25)\n",
        "\n",
        "for name, array in zip(['target', 'y_train', 'y_test'], [target, y_train, y_test]):\n",
        "    print(f'{name.ljust(7)}:{np.unique(array, return_counts=True)[1] / len(array)}')"
      ]
    },
    {
      "cell_type": "markdown",
      "source": [
        "Cwiczenie 34"
      ],
      "metadata": {
        "id": "x4zxbQt4BfH8"
      }
    },
    {
      "cell_type": "code",
      "source": [
        "import numpy as np\n",
        "import pandas as pd\n",
        "\n",
        "\n",
        "df = pd.DataFrame({'years': [1, 2, 3, 4, 5, 6],\n",
        "                   'salary': [4000, 4250, 4500, 4750, 5000, 5250]})\n",
        "m = len(df)\n",
        "\n",
        "X1 = df['years'].values\n",
        "Y = df['salary'].values\n",
        "\n",
        "X1 = X1.reshape(m, 1)\n",
        "bias = np.ones((m, 1))\n",
        "X = np.append(bias, X1, axis=1)\n",
        "\n",
        "coefs = np.dot(np.linalg.inv(np.dot(X.T, X)), np.dot(X.T, Y))\n",
        "print(f'Linear regression: {coefs[0]:.2f} + {coefs[1]:.2f}x')"
      ],
      "metadata": {
        "id": "QIaj0qhlBgWj",
        "colab": {
          "base_uri": "https://localhost:8080/"
        },
        "outputId": "801c5d27-b95a-484f-9925-60b32d90c1c0"
      },
      "execution_count": 10,
      "outputs": [
        {
          "output_type": "stream",
          "name": "stdout",
          "text": [
            "Linear regression: 3750.00 + 250.00x\n"
          ]
        }
      ]
    },
    {
      "cell_type": "markdown",
      "source": [
        "Cwiczenie 35"
      ],
      "metadata": {
        "id": "9FyDurnoJbCI"
      }
    },
    {
      "cell_type": "code",
      "source": [
        "import numpy as np\n",
        "import pandas as pd\n",
        "from sklearn.linear_model import LinearRegression\n",
        "\n",
        "\n",
        "df = pd.DataFrame({'years': [1, 2, 3, 4, 5, 6],\n",
        "                   'salary': [4000, 4250, 4500, 4750, 5000, 5250]})\n",
        "\n",
        "# tutaj wpisz rozwiązanie\n",
        "model = LinearRegression()\n",
        "model.fit(df[['years']], df[['salary']])\n",
        "print(f'Linear regression: {model.intercept_[0]:.2f} + {model.coef_[0][0]:.2f}x')\n"
      ],
      "metadata": {
        "colab": {
          "base_uri": "https://localhost:8080/"
        },
        "id": "BfQjb_k5JcBu",
        "outputId": "0ceb33a9-df90-45ff-b410-627d7b042b45"
      },
      "execution_count": 11,
      "outputs": [
        {
          "output_type": "stream",
          "name": "stdout",
          "text": [
            "Linear regression: 3750.00 + 250.00x\n"
          ]
        }
      ]
    },
    {
      "cell_type": "markdown",
      "source": [
        "Cwiczenie 36"
      ],
      "metadata": {
        "id": "6NOn5lmEJuPO"
      }
    },
    {
      "cell_type": "code",
      "source": [
        "import numpy as np\n",
        "import pandas as pd\n",
        "from sklearn.linear_model import LinearRegression\n",
        "\n",
        "df = pd.read_csv('data.csv')\n",
        "df\n",
        "model = LinearRegression()\n",
        "model.fit(df[['variable']],df[['target']])\n",
        "print(model.score(df[['variable']],df[['target']]))"
      ],
      "metadata": {
        "colab": {
          "base_uri": "https://localhost:8080/"
        },
        "id": "F7ZqYR60JvUl",
        "outputId": "478a7038-a106-433e-b9c0-fefc1f254ab6"
      },
      "execution_count": 18,
      "outputs": [
        {
          "output_type": "stream",
          "name": "stdout",
          "text": [
            "0.5531873717999666\n"
          ]
        }
      ]
    },
    {
      "cell_type": "markdown",
      "source": [
        "Cwiczenie 37"
      ],
      "metadata": {
        "id": "t0EcacoTKlnX"
      }
    },
    {
      "cell_type": "code",
      "source": [
        "import numpy as np\n",
        "import pandas as pd\n",
        "from sklearn.preprocessing import PolynomialFeatures\n",
        "\n",
        "\n",
        "np.set_printoptions(suppress=True, precision=3)\n",
        "# wpisz tutaj rozwiązanie\n",
        "df = pd.read_csv('data2.csv')\n",
        "poly = PolynomialFeatures(2)\n",
        "poly.fit_transform(df)"
      ],
      "metadata": {
        "colab": {
          "base_uri": "https://localhost:8080/"
        },
        "id": "ZCaEe_T-Kmey",
        "outputId": "ff210ed0-06b6-4760-bfaf-df288c395ac1"
      },
      "execution_count": 20,
      "outputs": [
        {
          "output_type": "execute_result",
          "data": {
            "text/plain": [
              "array([[ 1.   , -0.542,  0.294],\n",
              "       [ 1.   ,  0.529,  0.279],\n",
              "       [ 1.   ,  0.625,  0.391],\n",
              "       [ 1.   ,  0.194,  0.038],\n",
              "       [ 1.   , -0.8  ,  0.64 ],\n",
              "       [ 1.   , -0.304,  0.092],\n",
              "       [ 1.   ,  1.086,  1.18 ],\n",
              "       [ 1.   , -1.16 ,  1.346],\n",
              "       [ 1.   ,  1.038,  1.078],\n",
              "       [ 1.   , -0.815,  0.665],\n",
              "       [ 1.   ,  0.416,  0.173],\n",
              "       [ 1.   ,  1.297,  1.683],\n",
              "       [ 1.   , -0.433,  0.187],\n",
              "       [ 1.   ,  1.059,  1.121],\n",
              "       [ 1.   ,  1.139,  1.297],\n",
              "       [ 1.   ,  1.   ,  1.   ],\n",
              "       [ 1.   ,  0.109,  0.012],\n",
              "       [ 1.   , -0.39 ,  0.152],\n",
              "       [ 1.   , -0.701,  0.491],\n",
              "       [ 1.   ,  0.698,  0.488],\n",
              "       [ 1.   ,  0.752,  0.565],\n",
              "       [ 1.   ,  0.661,  0.437],\n",
              "       [ 1.   , -0.964,  0.93 ],\n",
              "       [ 1.   , -0.252,  0.064],\n",
              "       [ 1.   ,  0.344,  0.119],\n",
              "       [ 1.   ,  0.524,  0.274],\n",
              "       [ 1.   , -0.164,  0.027],\n",
              "       [ 1.   ,  0.048,  0.002],\n",
              "       [ 1.   ,  0.606,  0.367],\n",
              "       [ 1.   , -0.148,  0.022]])"
            ]
          },
          "metadata": {},
          "execution_count": 20
        }
      ]
    },
    {
      "cell_type": "markdown",
      "source": [
        "Cwiczenie 39\n"
      ],
      "metadata": {
        "id": "Jl8q8yk5LDrW"
      }
    },
    {
      "cell_type": "code",
      "source": [
        "import numpy as np\n",
        "import pandas as pd\n",
        "from sklearn.metrics import mean_absolute_error\n",
        "\n",
        "df = pd.read_csv('predictions.csv')\n",
        "\n",
        "\n",
        "mean_absolute_error(df['y_true'],df['y_pred'])\n",
        "# wpisz tutaj rozwiązanie"
      ],
      "metadata": {
        "colab": {
          "base_uri": "https://localhost:8080/"
        },
        "id": "Q47J21-XLSoB",
        "outputId": "44d8cf74-3beb-41fd-b314-32055ff17c85"
      },
      "execution_count": 24,
      "outputs": [
        {
          "output_type": "execute_result",
          "data": {
            "text/plain": [
              "6.791794588005249"
            ]
          },
          "metadata": {},
          "execution_count": 24
        }
      ]
    },
    {
      "cell_type": "markdown",
      "source": [
        "Cwiczenie 40"
      ],
      "metadata": {
        "id": "X27UYkpEMC3M"
      }
    },
    {
      "cell_type": "code",
      "source": [
        "from sklearn.metrics import mean_squared_error\n",
        "mse = mean_squared_error(df['y_true'],df['y_pred'])\n",
        "mse"
      ],
      "metadata": {
        "colab": {
          "base_uri": "https://localhost:8080/"
        },
        "id": "04HwsxKFMEBg",
        "outputId": "63d3b7b0-c3b3-47ff-8f75-c6c41f53e51a"
      },
      "execution_count": 26,
      "outputs": [
        {
          "output_type": "execute_result",
          "data": {
            "text/plain": [
              "74.9471459408194"
            ]
          },
          "metadata": {},
          "execution_count": 26
        }
      ]
    }
  ]
}