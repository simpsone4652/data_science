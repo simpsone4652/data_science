{
  "nbformat": 4,
  "nbformat_minor": 0,
  "metadata": {
    "colab": {
      "provenance": [],
      "authorship_tag": "ABX9TyN20dpbfBX0XrcNePBFy1Pg",
      "include_colab_link": true
    },
    "kernelspec": {
      "name": "python3",
      "display_name": "Python 3"
    },
    "language_info": {
      "name": "python"
    }
  },
  "cells": [
    {
      "cell_type": "markdown",
      "metadata": {
        "id": "view-in-github",
        "colab_type": "text"
      },
      "source": [
        "<a href=\"https://colab.research.google.com/github/simpsone4652/data_science/blob/main/Cwiczenia%2041-50.ipynb\" target=\"_parent\"><img src=\"https://colab.research.google.com/assets/colab-badge.svg\" alt=\"Open In Colab\"/></a>"
      ]
    },
    {
      "cell_type": "markdown",
      "source": [
        "Cwiczenie 41"
      ],
      "metadata": {
        "id": "YRb7a7dlM43Z"
      }
    },
    {
      "cell_type": "code",
      "source": [
        "import numpy as np\n",
        "import pandas as pd\n",
        "\n",
        "\n",
        "np.random.seed(42)\n",
        "df = pd.DataFrame(data=np.random.randn(10), columns=['var1'])\n",
        "import math\n",
        "\n",
        "def sigmoid(x):\n",
        "  return 1 / (1 + math.exp(-x))\n",
        "df['var1_sigmoid'] = df['var1'].apply(sigmoid)\n",
        "\n",
        "df\n",
        "# tutaj wpisz rozwiązanie"
      ],
      "metadata": {
        "colab": {
          "base_uri": "https://localhost:8080/",
          "height": 363
        },
        "id": "jvOQVvnjM60i",
        "outputId": "28e1453e-33cf-4aa3-f52c-303c5070efde"
      },
      "execution_count": 2,
      "outputs": [
        {
          "output_type": "execute_result",
          "data": {
            "text/plain": [
              "       var1  var1_sigmoid\n",
              "0  0.496714      0.621687\n",
              "1 -0.138264      0.465489\n",
              "2  0.647689      0.656489\n",
              "3  1.523030      0.820984\n",
              "4 -0.234153      0.441728\n",
              "5 -0.234137      0.441732\n",
              "6  1.579213      0.829093\n",
              "7  0.767435      0.682966\n",
              "8 -0.469474      0.384741\n",
              "9  0.542560      0.632408"
            ],
            "text/html": [
              "\n",
              "  <div id=\"df-0e80089e-ba93-4e4c-b51c-76cc288e0d86\">\n",
              "    <div class=\"colab-df-container\">\n",
              "      <div>\n",
              "<style scoped>\n",
              "    .dataframe tbody tr th:only-of-type {\n",
              "        vertical-align: middle;\n",
              "    }\n",
              "\n",
              "    .dataframe tbody tr th {\n",
              "        vertical-align: top;\n",
              "    }\n",
              "\n",
              "    .dataframe thead th {\n",
              "        text-align: right;\n",
              "    }\n",
              "</style>\n",
              "<table border=\"1\" class=\"dataframe\">\n",
              "  <thead>\n",
              "    <tr style=\"text-align: right;\">\n",
              "      <th></th>\n",
              "      <th>var1</th>\n",
              "      <th>var1_sigmoid</th>\n",
              "    </tr>\n",
              "  </thead>\n",
              "  <tbody>\n",
              "    <tr>\n",
              "      <th>0</th>\n",
              "      <td>0.496714</td>\n",
              "      <td>0.621687</td>\n",
              "    </tr>\n",
              "    <tr>\n",
              "      <th>1</th>\n",
              "      <td>-0.138264</td>\n",
              "      <td>0.465489</td>\n",
              "    </tr>\n",
              "    <tr>\n",
              "      <th>2</th>\n",
              "      <td>0.647689</td>\n",
              "      <td>0.656489</td>\n",
              "    </tr>\n",
              "    <tr>\n",
              "      <th>3</th>\n",
              "      <td>1.523030</td>\n",
              "      <td>0.820984</td>\n",
              "    </tr>\n",
              "    <tr>\n",
              "      <th>4</th>\n",
              "      <td>-0.234153</td>\n",
              "      <td>0.441728</td>\n",
              "    </tr>\n",
              "    <tr>\n",
              "      <th>5</th>\n",
              "      <td>-0.234137</td>\n",
              "      <td>0.441732</td>\n",
              "    </tr>\n",
              "    <tr>\n",
              "      <th>6</th>\n",
              "      <td>1.579213</td>\n",
              "      <td>0.829093</td>\n",
              "    </tr>\n",
              "    <tr>\n",
              "      <th>7</th>\n",
              "      <td>0.767435</td>\n",
              "      <td>0.682966</td>\n",
              "    </tr>\n",
              "    <tr>\n",
              "      <th>8</th>\n",
              "      <td>-0.469474</td>\n",
              "      <td>0.384741</td>\n",
              "    </tr>\n",
              "    <tr>\n",
              "      <th>9</th>\n",
              "      <td>0.542560</td>\n",
              "      <td>0.632408</td>\n",
              "    </tr>\n",
              "  </tbody>\n",
              "</table>\n",
              "</div>\n",
              "      <button class=\"colab-df-convert\" onclick=\"convertToInteractive('df-0e80089e-ba93-4e4c-b51c-76cc288e0d86')\"\n",
              "              title=\"Convert this dataframe to an interactive table.\"\n",
              "              style=\"display:none;\">\n",
              "        \n",
              "  <svg xmlns=\"http://www.w3.org/2000/svg\" height=\"24px\"viewBox=\"0 0 24 24\"\n",
              "       width=\"24px\">\n",
              "    <path d=\"M0 0h24v24H0V0z\" fill=\"none\"/>\n",
              "    <path d=\"M18.56 5.44l.94 2.06.94-2.06 2.06-.94-2.06-.94-.94-2.06-.94 2.06-2.06.94zm-11 1L8.5 8.5l.94-2.06 2.06-.94-2.06-.94L8.5 2.5l-.94 2.06-2.06.94zm10 10l.94 2.06.94-2.06 2.06-.94-2.06-.94-.94-2.06-.94 2.06-2.06.94z\"/><path d=\"M17.41 7.96l-1.37-1.37c-.4-.4-.92-.59-1.43-.59-.52 0-1.04.2-1.43.59L10.3 9.45l-7.72 7.72c-.78.78-.78 2.05 0 2.83L4 21.41c.39.39.9.59 1.41.59.51 0 1.02-.2 1.41-.59l7.78-7.78 2.81-2.81c.8-.78.8-2.07 0-2.86zM5.41 20L4 18.59l7.72-7.72 1.47 1.35L5.41 20z\"/>\n",
              "  </svg>\n",
              "      </button>\n",
              "      \n",
              "  <style>\n",
              "    .colab-df-container {\n",
              "      display:flex;\n",
              "      flex-wrap:wrap;\n",
              "      gap: 12px;\n",
              "    }\n",
              "\n",
              "    .colab-df-convert {\n",
              "      background-color: #E8F0FE;\n",
              "      border: none;\n",
              "      border-radius: 50%;\n",
              "      cursor: pointer;\n",
              "      display: none;\n",
              "      fill: #1967D2;\n",
              "      height: 32px;\n",
              "      padding: 0 0 0 0;\n",
              "      width: 32px;\n",
              "    }\n",
              "\n",
              "    .colab-df-convert:hover {\n",
              "      background-color: #E2EBFA;\n",
              "      box-shadow: 0px 1px 2px rgba(60, 64, 67, 0.3), 0px 1px 3px 1px rgba(60, 64, 67, 0.15);\n",
              "      fill: #174EA6;\n",
              "    }\n",
              "\n",
              "    [theme=dark] .colab-df-convert {\n",
              "      background-color: #3B4455;\n",
              "      fill: #D2E3FC;\n",
              "    }\n",
              "\n",
              "    [theme=dark] .colab-df-convert:hover {\n",
              "      background-color: #434B5C;\n",
              "      box-shadow: 0px 1px 3px 1px rgba(0, 0, 0, 0.15);\n",
              "      filter: drop-shadow(0px 1px 2px rgba(0, 0, 0, 0.3));\n",
              "      fill: #FFFFFF;\n",
              "    }\n",
              "  </style>\n",
              "\n",
              "      <script>\n",
              "        const buttonEl =\n",
              "          document.querySelector('#df-0e80089e-ba93-4e4c-b51c-76cc288e0d86 button.colab-df-convert');\n",
              "        buttonEl.style.display =\n",
              "          google.colab.kernel.accessAllowed ? 'block' : 'none';\n",
              "\n",
              "        async function convertToInteractive(key) {\n",
              "          const element = document.querySelector('#df-0e80089e-ba93-4e4c-b51c-76cc288e0d86');\n",
              "          const dataTable =\n",
              "            await google.colab.kernel.invokeFunction('convertToInteractive',\n",
              "                                                     [key], {});\n",
              "          if (!dataTable) return;\n",
              "\n",
              "          const docLinkHtml = 'Like what you see? Visit the ' +\n",
              "            '<a target=\"_blank\" href=https://colab.research.google.com/notebooks/data_table.ipynb>data table notebook</a>'\n",
              "            + ' to learn more about interactive tables.';\n",
              "          element.innerHTML = '';\n",
              "          dataTable['output_type'] = 'display_data';\n",
              "          await google.colab.output.renderOutput(dataTable, element);\n",
              "          const docLink = document.createElement('div');\n",
              "          docLink.innerHTML = docLinkHtml;\n",
              "          element.appendChild(docLink);\n",
              "        }\n",
              "      </script>\n",
              "    </div>\n",
              "  </div>\n",
              "  "
            ]
          },
          "metadata": {},
          "execution_count": 2
        }
      ]
    },
    {
      "cell_type": "markdown",
      "source": [
        "Cwiczenie 42"
      ],
      "metadata": {
        "id": "iKzz6L4yOH5Z"
      }
    },
    {
      "cell_type": "code",
      "source": [
        "import numpy as np\n",
        "import pandas as pd\n",
        "from sklearn.preprocessing import StandardScaler\n",
        "\n",
        "\n",
        "np.set_printoptions(precision=4, suppress=True)\n",
        "# tutaj wpisz rozwiązanie\n",
        "df =pd.read_csv('data.csv')\n",
        "scaler = StandardScaler()\n",
        "scaler.fit(df)\n",
        "df_scaled= scaler.transform(df)\n",
        "df_scaled"
      ],
      "metadata": {
        "colab": {
          "base_uri": "https://localhost:8080/"
        },
        "id": "-tHP6pSVOIsh",
        "outputId": "76f76edf-b01d-40e7-f1e0-77402f6e0869"
      },
      "execution_count": 7,
      "outputs": [
        {
          "output_type": "execute_result",
          "data": {
            "text/plain": [
              "array([[-0.4785, -0.2137, -0.4584, -0.5114,  0.0636],\n",
              "       [ 1.3742,  0.3895,  1.2924,  1.4055, -0.616 ],\n",
              "       [ 0.3777, -0.0178,  0.3905,  0.2783,  0.7424],\n",
              "       [-0.4986, -0.4185, -0.4427, -0.5531,  0.4723],\n",
              "       [-0.7449, -1.1397, -0.7236, -0.745 ,  0.0771],\n",
              "       [ 1.8496,  2.1747,  1.9719,  1.8048,  1.3537],\n",
              "       [ 2.2534,  0.5208,  2.2644,  2.4466,  0.5363],\n",
              "       [ 0.9819, -1.0039,  0.9382,  0.8882, -0.0203],\n",
              "       [-0.2294, -0.8236, -0.236 , -0.3987,  0.6429],\n",
              "       [-0.069 , -0.6544, -0.1338, -0.1639, -2.1663],\n",
              "       [-0.2666,  1.2665, -0.3344, -0.3457, -0.7709],\n",
              "       [ 0.7557, -0.1692,  0.7035,  0.6847, -0.7183],\n",
              "       [ 0.2374,  0.0445,  0.1351,  0.1047, -1.0339],\n",
              "       [ 0.6068,  0.5164,  0.6293,  0.5087,  1.2613],\n",
              "       [-0.5158, -1.6227, -0.5469, -0.551 , -0.6202],\n",
              "       [ 1.4201,  1.498 ,  1.5189,  1.4114,  1.6167],\n",
              "       [ 0.1916, -1.0818,  0.1005,  0.0766, -0.9977],\n",
              "       [-1.14  ,  0.0066, -1.1321, -1.0148,  0.1098],\n",
              "       [-2.0504, -1.3645, -1.9945, -1.5123,  1.2968],\n",
              "       [ 1.8353,  0.2893,  1.8772,  1.932 ,  0.4154],\n",
              "       [-0.0977, -0.8392, -0.0737, -0.2091,  0.1382],\n",
              "       [-0.5845, -0.4096, -0.5827, -0.617 ,  0.2946],\n",
              "       [ 2.1388,  0.6054,  2.149 ,  2.2248,  1.2755],\n",
              "       [-1.1773,  0.3828, -1.1956, -1.0278, -1.25  ],\n",
              "       [-0.7277,  1.0973, -0.7409, -0.7027, -1.7071],\n",
              "       [-0.175 , -1.9188, -0.1775, -0.2828,  2.1569],\n",
              "       [-0.2466, -1.3   , -0.2648, -0.3342, -1.0752],\n",
              "       [-1.1028,  1.7918, -1.0934, -0.9861, -0.601 ],\n",
              "       [-0.3955, -0.1603, -0.4262, -0.4679, -0.1419],\n",
              "       [ 0.876 ,  1.104 ,  0.9053,  0.8122,  0.5931],\n",
              "       [-0.8623,  0.641 , -0.8537, -0.8175, -0.22  ],\n",
              "       [-0.5959, -1.5181, -0.6334, -0.6099, -0.4013],\n",
              "       [-1.2597, -0.098 , -1.2474, -1.0798,  0.6216],\n",
              "       [-0.132 , -0.719 , -0.1837, -0.2345, -0.4255],\n",
              "       [-1.1343, -0.4519, -1.1161, -1.0106,  0.5221],\n",
              "       [-0.7506, -0.1803, -0.7775, -0.727 , -0.2499],\n",
              "       [ 0.5381,  0.8191,  0.4316,  0.423 , -1.1868],\n",
              "       [-0.6876, -1.2332, -0.7405, -0.6729, -1.4661],\n",
              "       [ 1.1767,  0.0935,  1.1277,  1.1393, -0.2933],\n",
              "       [ 0.1371,  0.9927,  0.0968,  0.0234, -0.6409],\n",
              "       [-1.0455, -0.0601, -1.0218, -0.9426,  0.0806],\n",
              "       [ 0.2689,  1.3756,  0.2381,  0.1828,  0.259 ],\n",
              "       [-0.7248, -0.788 , -0.6902, -0.7294,  0.714 ],\n",
              "       [-0.6589, -0.138 , -0.6882, -0.6708, -0.7141],\n",
              "       [-0.6446, -0.4897, -0.6597, -0.6483,  1.6878],\n",
              "       [-0.8021,  0.3784, -0.813 , -0.764 , -0.7937],\n",
              "       [-1.3877, -1.2599, -1.3286, -1.1742,  2.7256],\n",
              "       [-1.3511,  1.8519, -1.3574, -1.1343, -1.2458],\n",
              "       [-0.7076,  0.1024, -0.7005, -0.7057,  0.2022],\n",
              "       [-0.3583, -0.8592, -0.3352, -0.4087, -1.4626],\n",
              "       [ 0.8731,  0.5587,  0.7982,  0.8089, -0.1063],\n",
              "       [ 1.2855,  1.2353,  1.3418,  1.2813,  0.5434],\n",
              "       [-0.2953,  0.6633, -0.2141, -0.3709,  0.1027],\n",
              "       [-0.0576, -1.4224, -0.0786, -0.1792,  1.8513],\n",
              "       [-0.6418, -1.0929, -0.5811, -0.6566,  1.1689],\n",
              "       [-0.2781, -0.2983, -0.327 , -0.3475, -1.7128],\n",
              "       [-1.1143, -0.7524, -1.0584, -0.9778,  0.5221],\n",
              "       [ 3.1726,  1.1908,  3.2651,  3.6178,  0.5363],\n",
              "       [-0.1893,  0.2804, -0.1573, -0.2828,  0.2022],\n",
              "       [-0.8164, -1.4513, -0.8232, -0.7891, -0.0295],\n",
              "       [-0.3669, -0.3473, -0.3719, -0.4392,  0.0415],\n",
              "       [ 1.589 ,  0.3761,  1.556 ,  1.6214,  0.7708],\n",
              "       [ 2.1245,  0.6299,  2.0502,  2.4377,  0.8704],\n",
              "       [ 0.0741,  1.6538,  0.0013, -0.0257, -2.0476],\n",
              "       [-0.5272, -0.1202, -0.5906, -0.5631, -1.1107],\n",
              "       [-0.4356,  0.9816, -0.4476, -0.4685, -1.4021],\n",
              "       [ 0.4693,  0.7456,  0.5552,  0.378 ,  1.1902],\n",
              "       [ 1.7293,  0.9816,  2.1202,  1.7456,  2.1214],\n",
              "       [-0.6675, -0.483 , -0.698 , -0.6681,  0.1382],\n",
              "       [-0.3325, -0.0468, -0.3171, -0.4164, -0.2108],\n",
              "       [-0.1063,  0.6076, -0.0655, -0.1949,  1.5101],\n",
              "       [ 0.4693, -0.3718,  0.4687,  0.3733, -0.1177],\n",
              "       [-0.0232, -0.5298, -0.1017, -0.1352, -1.3012],\n",
              "       [ 0.6641,  0.1224,  0.7035,  0.5268, -0.0317],\n",
              "       [-1.8362,  1.3199, -1.822 , -1.4079, -1.2635],\n",
              "       [-0.1922, -1.2243, -0.2018, -0.3209,  0.5931],\n",
              "       [-0.0318,  0.3761, -0.1   , -0.152 , -0.5726],\n",
              "       [-0.0519, -0.5587, -0.0325, -0.155 ,  0.7708],\n",
              "       [-0.9711, -1.0217, -0.9868, -0.8858, -1.4803],\n",
              "       [-0.8222, -1.4691, -0.7849, -0.7941,  1.7731],\n",
              "       [ 0.5781,  0.4407,  0.5758,  0.4584,  0.1453],\n",
              "       [-0.8279, -1.064 , -0.8583, -0.7832, -1.1157],\n",
              "       [ 0.0971,  0.4229,  0.0836, -0.0195, -0.3068],\n",
              "       [ 1.947 ,  0.8903,  1.9225,  2.0976,  0.1382],\n",
              "       [ 1.085 ,  1.0951,  0.9464,  1.0177, -0.7254],\n",
              "       [ 0.3376, -0.5098,  0.4522,  0.173 ,  2.4697],\n",
              "       [-0.4814,  0.9972, -0.3397, -0.5291,  1.4106],\n",
              "       [ 0.9905,  0.8391,  1.1029,  0.9633, -0.4169],\n",
              "       [-0.5988,  0.7034, -0.5547, -0.6122, -2.0902],\n",
              "       [-0.3669, -1.389 , -0.3871, -0.4436,  1.041 ],\n",
              "       [-0.6131, -0.8704, -0.6289, -0.6255, -0.1084],\n",
              "       [-0.195 , -0.1803, -0.1968, -0.3067,  0.6216],\n",
              "       [ 0.2574, -0.6277,  0.2681,  0.1023,  0.0053],\n",
              "       [-0.8422,  2.1836, -0.8875, -0.795 , -1.7249],\n",
              "       [-0.8365,  0.0667, -0.8352, -0.7912,  0.4723],\n",
              "       [-1.2497, -0.5721, -1.224 , -1.0784,  0.3515],\n",
              "       [ 1.715 ,  1.9343,  1.6054,  1.793 , -0.0679],\n",
              "       [-0.0948,  0.9326, -0.0272, -0.1686,  2.3844],\n",
              "       [-0.8565, -1.4424, -0.8793, -0.8071, -0.0864],\n",
              "       [ 0.896 ,  1.3043,  0.8311,  0.8104, -1.0979],\n",
              "       [ 0.4464,  0.1669,  0.3699,  0.3307, -0.198 ],\n",
              "       [-1.2609, -1.6895, -1.2759, -1.0834, -0.4447],\n",
              "       [ 1.1194, -0.7591,  1.1524,  1.0387,  0.5505],\n",
              "       [ 1.1022,  0.2448,  1.0535,  0.9964,  0.3443],\n",
              "       [-0.951 ,  1.035 , -0.9608, -0.8672, -1.1967],\n",
              "       [-0.6847, -0.4452, -0.6725, -0.6859,  0.6073],\n",
              "       [-0.5158,  0.5921, -0.5094, -0.5628,  0.1737],\n",
              "       [ 2.5627,  0.0601,  2.4662,  3.0381, -0.3793],\n",
              "       [ 0.0856, -0.975 ,  0.0721, -0.0435,  0.0671],\n",
              "       [ 0.1429, -0.6032,  0.082 ,  0.0331, -0.8776],\n",
              "       [ 0.5524,  0.02  ,  0.4893,  0.4818, -0.503 ],\n",
              "       [-0.7506, -1.0306, -0.7557, -0.735 ,  0.1809],\n",
              "       [ 0.0226,  1.8452,  0.0136, -0.0914, -1.1747],\n",
              "       [ 1.8868,  2.5731,  1.7907,  2.2603, -0.289 ],\n",
              "       [-1.4639, -0.4964, -1.3768, -1.1958,  0.5576],\n",
              "       [ 1.9899,  1.5603,  2.079 ,  1.9408,  1.0907],\n",
              "       [-1.4227, -1.2688, -1.3599, -1.165 , -1.5315],\n",
              "       [-0.9997,  1.2598, -0.997 , -0.9104, -0.1554],\n",
              "       [-1.1372, -1.0417, -1.1395, -1.0142,  1.041 ],\n",
              "       [ 0.1142,  1.7762,  0.1858,  0.0118,  1.0765],\n",
              "       [ 0.077 ,  0.0378,  0.1569, -0.0112, -0.7951],\n",
              "       [-0.7764, -0.9282, -0.7891, -0.7542, -0.1682],\n",
              "       [-0.5415, -0.3606, -0.5745, -0.5753, -0.8683],\n",
              "       [ 1.6463,  0.1558,  1.5766,  1.6539,  0.3515],\n",
              "       [-0.51  ,  0.4986, -0.5123, -0.5581, -0.7844],\n",
              "       [ 1.9928,  0.2137,  1.8896,  2.1567, -0.1362],\n",
              "       [ 0.2087, -0.6433,  0.2644,  0.0819,  1.24  ],\n",
              "       [-1.2812, -0.2382, -1.2656, -1.0816, -0.6608],\n",
              "       [-0.2122, -0.581 , -0.2776, -0.3029, -1.378 ],\n",
              "       [ 1.4687,  1.5381,  1.4695,  1.5001, -0.3373],\n",
              "       [ 1.1022, -2.0434,  1.2595,  1.024 ,  1.3964],\n",
              "       [ 0.309 ,  2.4618,  0.4605,  0.1837,  0.4296],\n",
              "       [ 0.0341, -0.3094, -0.0412, -0.0642, -2.3454],\n",
              "       [-0.699 , -0.1002, -0.7368, -0.6983, -0.7546],\n",
              "       [ 0.3233, -1.4802,  0.2451,  0.2091, -1.2038],\n",
              "       [ 0.3433, -1.1798,  0.4234,  0.1467,  0.6073],\n",
              "       [-0.1807, -0.1492, -0.1697, -0.286 ,  0.5078],\n",
              "       [-1.0484,  0.0667, -1.0502, -0.9379,  0.586 ],\n",
              "       [ 0.1429, -0.9616,  0.1462, -0.0086,  1.0267],\n",
              "       [ 0.0885,  0.1469,  0.0935, -0.0358, -0.0025],\n",
              "       [-0.888 , -0.6077, -0.8772, -0.8329,  0.6358],\n",
              "       [ 1.6234,  0.5765,  1.556 ,  1.79  , -0.0317],\n",
              "       [-1.1114, -1.6338, -1.0901, -0.9855,  0.0856]])"
            ]
          },
          "metadata": {},
          "execution_count": 7
        }
      ]
    },
    {
      "cell_type": "markdown",
      "source": [
        "Cwiczenie 43"
      ],
      "metadata": {
        "id": "mdHAulZYPsNz"
      }
    },
    {
      "cell_type": "code",
      "source": [
        "import numpy as np\n",
        "import pandas as pd\n",
        "from sklearn.preprocessing import StandardScaler\n",
        "\n",
        "\n",
        "np.set_printoptions(precision=4, suppress=True)\n",
        "# wpisz tutaj rozwiązanie\n",
        "X_train=pd.read_csv('X_train.csv')\n",
        "X_test= pd.read_csv('X_test.csv')\n",
        "scaler = StandardScaler()\n",
        "scaler.fit(X_train)\n",
        "df_scaled= scaler.transform(X_train)\n",
        "X_test = scaler.transform(X_test)\n",
        "df_scaled"
      ],
      "metadata": {
        "colab": {
          "base_uri": "https://localhost:8080/"
        },
        "id": "LaEsh1QaPtEN",
        "outputId": "5f54014d-2504-4ec0-b754-4c86c14b14ac"
      },
      "execution_count": 11,
      "outputs": [
        {
          "output_type": "execute_result",
          "data": {
            "text/plain": [
              "array([[-0.3491, -1.4385, -0.4117, -0.3905, -1.8637],\n",
              "       [-0.2047,  0.3126, -0.1337, -0.2759,  1.0781],\n",
              "       [-0.3293, -0.2151, -0.3174, -0.3644, -1.5799],\n",
              "       ...,\n",
              "       [ 0.0474, -0.5629, -0.0653, -0.0627, -2.2406],\n",
              "       [-0.0404,  0.0997, -0.0315, -0.1557,  0.7484],\n",
              "       [-0.5502,  0.3126, -0.6041, -0.5511, -1.1055]])"
            ]
          },
          "metadata": {},
          "execution_count": 11
        }
      ]
    },
    {
      "cell_type": "markdown",
      "source": [
        "Cwiczenie 44"
      ],
      "metadata": {
        "id": "BZnXkVLgQdtT"
      }
    },
    {
      "cell_type": "code",
      "source": [
        "import numpy as np\n",
        "import pandas as pd\n",
        "\n",
        "\n",
        "def entropy(x):\n",
        "    return np.round(-np.sum(x * np.log2(x)), 4)\n",
        "\n",
        "\n",
        "df = pd.DataFrame({'val_1': np.arange(0.01, 1.0, 0.1), 'val_2': 1 - np.arange(0.01, 1.0, 0.1)})\n",
        "# wpisz tutaj rozwiązanie\n",
        "def entropy1(labels, base=None):\n",
        "  value,counts = np.unique(labels, return_counts=True)\n",
        "  return entropy(counts, base=base)\n",
        "\n",
        "df['val_3']="
      ],
      "metadata": {
        "colab": {
          "base_uri": "https://localhost:8080/",
          "height": 363
        },
        "id": "6agXOoUQQfF0",
        "outputId": "13885b6c-5115-486a-ebe8-51627d704774"
      },
      "execution_count": 13,
      "outputs": [
        {
          "output_type": "execute_result",
          "data": {
            "text/plain": [
              "   val_1  val_2\n",
              "0   0.01   0.99\n",
              "1   0.11   0.89\n",
              "2   0.21   0.79\n",
              "3   0.31   0.69\n",
              "4   0.41   0.59\n",
              "5   0.51   0.49\n",
              "6   0.61   0.39\n",
              "7   0.71   0.29\n",
              "8   0.81   0.19\n",
              "9   0.91   0.09"
            ],
            "text/html": [
              "\n",
              "  <div id=\"df-fe87f459-866b-4e15-af5d-5fb952d0a4ac\">\n",
              "    <div class=\"colab-df-container\">\n",
              "      <div>\n",
              "<style scoped>\n",
              "    .dataframe tbody tr th:only-of-type {\n",
              "        vertical-align: middle;\n",
              "    }\n",
              "\n",
              "    .dataframe tbody tr th {\n",
              "        vertical-align: top;\n",
              "    }\n",
              "\n",
              "    .dataframe thead th {\n",
              "        text-align: right;\n",
              "    }\n",
              "</style>\n",
              "<table border=\"1\" class=\"dataframe\">\n",
              "  <thead>\n",
              "    <tr style=\"text-align: right;\">\n",
              "      <th></th>\n",
              "      <th>val_1</th>\n",
              "      <th>val_2</th>\n",
              "    </tr>\n",
              "  </thead>\n",
              "  <tbody>\n",
              "    <tr>\n",
              "      <th>0</th>\n",
              "      <td>0.01</td>\n",
              "      <td>0.99</td>\n",
              "    </tr>\n",
              "    <tr>\n",
              "      <th>1</th>\n",
              "      <td>0.11</td>\n",
              "      <td>0.89</td>\n",
              "    </tr>\n",
              "    <tr>\n",
              "      <th>2</th>\n",
              "      <td>0.21</td>\n",
              "      <td>0.79</td>\n",
              "    </tr>\n",
              "    <tr>\n",
              "      <th>3</th>\n",
              "      <td>0.31</td>\n",
              "      <td>0.69</td>\n",
              "    </tr>\n",
              "    <tr>\n",
              "      <th>4</th>\n",
              "      <td>0.41</td>\n",
              "      <td>0.59</td>\n",
              "    </tr>\n",
              "    <tr>\n",
              "      <th>5</th>\n",
              "      <td>0.51</td>\n",
              "      <td>0.49</td>\n",
              "    </tr>\n",
              "    <tr>\n",
              "      <th>6</th>\n",
              "      <td>0.61</td>\n",
              "      <td>0.39</td>\n",
              "    </tr>\n",
              "    <tr>\n",
              "      <th>7</th>\n",
              "      <td>0.71</td>\n",
              "      <td>0.29</td>\n",
              "    </tr>\n",
              "    <tr>\n",
              "      <th>8</th>\n",
              "      <td>0.81</td>\n",
              "      <td>0.19</td>\n",
              "    </tr>\n",
              "    <tr>\n",
              "      <th>9</th>\n",
              "      <td>0.91</td>\n",
              "      <td>0.09</td>\n",
              "    </tr>\n",
              "  </tbody>\n",
              "</table>\n",
              "</div>\n",
              "      <button class=\"colab-df-convert\" onclick=\"convertToInteractive('df-fe87f459-866b-4e15-af5d-5fb952d0a4ac')\"\n",
              "              title=\"Convert this dataframe to an interactive table.\"\n",
              "              style=\"display:none;\">\n",
              "        \n",
              "  <svg xmlns=\"http://www.w3.org/2000/svg\" height=\"24px\"viewBox=\"0 0 24 24\"\n",
              "       width=\"24px\">\n",
              "    <path d=\"M0 0h24v24H0V0z\" fill=\"none\"/>\n",
              "    <path d=\"M18.56 5.44l.94 2.06.94-2.06 2.06-.94-2.06-.94-.94-2.06-.94 2.06-2.06.94zm-11 1L8.5 8.5l.94-2.06 2.06-.94-2.06-.94L8.5 2.5l-.94 2.06-2.06.94zm10 10l.94 2.06.94-2.06 2.06-.94-2.06-.94-.94-2.06-.94 2.06-2.06.94z\"/><path d=\"M17.41 7.96l-1.37-1.37c-.4-.4-.92-.59-1.43-.59-.52 0-1.04.2-1.43.59L10.3 9.45l-7.72 7.72c-.78.78-.78 2.05 0 2.83L4 21.41c.39.39.9.59 1.41.59.51 0 1.02-.2 1.41-.59l7.78-7.78 2.81-2.81c.8-.78.8-2.07 0-2.86zM5.41 20L4 18.59l7.72-7.72 1.47 1.35L5.41 20z\"/>\n",
              "  </svg>\n",
              "      </button>\n",
              "      \n",
              "  <style>\n",
              "    .colab-df-container {\n",
              "      display:flex;\n",
              "      flex-wrap:wrap;\n",
              "      gap: 12px;\n",
              "    }\n",
              "\n",
              "    .colab-df-convert {\n",
              "      background-color: #E8F0FE;\n",
              "      border: none;\n",
              "      border-radius: 50%;\n",
              "      cursor: pointer;\n",
              "      display: none;\n",
              "      fill: #1967D2;\n",
              "      height: 32px;\n",
              "      padding: 0 0 0 0;\n",
              "      width: 32px;\n",
              "    }\n",
              "\n",
              "    .colab-df-convert:hover {\n",
              "      background-color: #E2EBFA;\n",
              "      box-shadow: 0px 1px 2px rgba(60, 64, 67, 0.3), 0px 1px 3px 1px rgba(60, 64, 67, 0.15);\n",
              "      fill: #174EA6;\n",
              "    }\n",
              "\n",
              "    [theme=dark] .colab-df-convert {\n",
              "      background-color: #3B4455;\n",
              "      fill: #D2E3FC;\n",
              "    }\n",
              "\n",
              "    [theme=dark] .colab-df-convert:hover {\n",
              "      background-color: #434B5C;\n",
              "      box-shadow: 0px 1px 3px 1px rgba(0, 0, 0, 0.15);\n",
              "      filter: drop-shadow(0px 1px 2px rgba(0, 0, 0, 0.3));\n",
              "      fill: #FFFFFF;\n",
              "    }\n",
              "  </style>\n",
              "\n",
              "      <script>\n",
              "        const buttonEl =\n",
              "          document.querySelector('#df-fe87f459-866b-4e15-af5d-5fb952d0a4ac button.colab-df-convert');\n",
              "        buttonEl.style.display =\n",
              "          google.colab.kernel.accessAllowed ? 'block' : 'none';\n",
              "\n",
              "        async function convertToInteractive(key) {\n",
              "          const element = document.querySelector('#df-fe87f459-866b-4e15-af5d-5fb952d0a4ac');\n",
              "          const dataTable =\n",
              "            await google.colab.kernel.invokeFunction('convertToInteractive',\n",
              "                                                     [key], {});\n",
              "          if (!dataTable) return;\n",
              "\n",
              "          const docLinkHtml = 'Like what you see? Visit the ' +\n",
              "            '<a target=\"_blank\" href=https://colab.research.google.com/notebooks/data_table.ipynb>data table notebook</a>'\n",
              "            + ' to learn more about interactive tables.';\n",
              "          element.innerHTML = '';\n",
              "          dataTable['output_type'] = 'display_data';\n",
              "          await google.colab.output.renderOutput(dataTable, element);\n",
              "          const docLink = document.createElement('div');\n",
              "          docLink.innerHTML = docLinkHtml;\n",
              "          element.appendChild(docLink);\n",
              "        }\n",
              "      </script>\n",
              "    </div>\n",
              "  </div>\n",
              "  "
            ]
          },
          "metadata": {},
          "execution_count": 13
        }
      ]
    },
    {
      "cell_type": "markdown",
      "source": [
        "Cwiczenie 45"
      ],
      "metadata": {
        "id": "EzIxnhN2RIw1"
      }
    },
    {
      "cell_type": "code",
      "source": [
        "import numpy as np\n",
        "import pandas as pd\n",
        "from sklearn.metrics import accuracy_score\n",
        "\n",
        "\n",
        "# tutaj wpisz rozwiązanie\n",
        "df = pd.read_csv('pred.csv')\n",
        "acc = accuracy_score(df['y_true'], df['y_pred'])\n",
        "print(f'Accuracy: {acc:.4f}')"
      ],
      "metadata": {
        "colab": {
          "base_uri": "https://localhost:8080/"
        },
        "id": "zWsPR_lXRKJ9",
        "outputId": "ebc403d9-a028-48b8-ba39-947754cd0c64"
      },
      "execution_count": 19,
      "outputs": [
        {
          "output_type": "stream",
          "name": "stdout",
          "text": [
            "Accuracy: 0.7241\n"
          ]
        }
      ]
    },
    {
      "cell_type": "markdown",
      "source": [
        "Cwiczenie 46"
      ],
      "metadata": {
        "id": "Tfkf9YdrR21e"
      }
    },
    {
      "cell_type": "code",
      "source": [
        "import numpy as np\n",
        "import pandas as pd\n",
        "from sklearn.metrics import confusion_matrix\n",
        "\n",
        "\n",
        "# wpisz tutaj rozwiązanie\n",
        "df = pd.read_csv('pred.csv')\n",
        "confusion_matrix(df['y_true'], df['y_pred'])"
      ],
      "metadata": {
        "colab": {
          "base_uri": "https://localhost:8080/"
        },
        "id": "GAiC9vhcR33M",
        "outputId": "030dbf83-b3f1-4ea7-f234-2e26e6c64323"
      },
      "execution_count": 20,
      "outputs": [
        {
          "output_type": "execute_result",
          "data": {
            "text/plain": [
              "array([[ 6,  1,  0],\n",
              "       [ 3, 10,  2],\n",
              "       [ 0,  2,  5]])"
            ]
          },
          "metadata": {},
          "execution_count": 20
        }
      ]
    },
    {
      "cell_type": "markdown",
      "source": [
        "Cwiczenie 47"
      ],
      "metadata": {
        "id": "q5EdrnQ8a2Gi"
      }
    },
    {
      "cell_type": "code",
      "source": [
        "import numpy as np\n",
        "import pandas as pd\n",
        "\n",
        "from sklearn.datasets import make_moons\n",
        "from sklearn.model_selection import train_test_split\n",
        "from sklearn.tree import DecisionTreeClassifier\n",
        "\n",
        "\n",
        "np.random.seed(42)\n",
        "raw_data = make_moons(n_samples=2000, noise=0.25, random_state=42)\n",
        "data = raw_data[0]\n",
        "target = raw_data[1]\n",
        "\n",
        "X_train, X_test, y_train, y_test = train_test_split(data, target)\n",
        "\n",
        "# tutaj wpisz rozwiązanie\n",
        "clf = DecisionTreeClassifier(random_state=0)\n",
        "clf.fit(X_train,y_train)\n",
        "acc =clf.score(X_test,y_test)\n",
        "print(f'Acurcy: {acc:.4f}')"
      ],
      "metadata": {
        "colab": {
          "base_uri": "https://localhost:8080/"
        },
        "id": "WgPQHSALa3qQ",
        "outputId": "3fa4a7ed-882e-42b1-dfe1-70dc82097bbe"
      },
      "execution_count": 24,
      "outputs": [
        {
          "output_type": "stream",
          "name": "stdout",
          "text": [
            "Acurcy: 0.9040\n"
          ]
        }
      ]
    },
    {
      "cell_type": "markdown",
      "source": [
        "Cwiczenie 48"
      ],
      "metadata": {
        "id": "221DWnGCb6On"
      }
    },
    {
      "cell_type": "code",
      "source": [
        "import numpy as np\n",
        "import pandas as pd\n",
        "\n",
        "from sklearn.datasets import make_moons\n",
        "from sklearn.model_selection import train_test_split\n",
        "from sklearn.tree import DecisionTreeClassifier\n",
        "\n",
        "\n",
        "np.random.seed(42)\n",
        "raw_data = make_moons(n_samples=2000, noise=0.25, random_state=42)\n",
        "data = raw_data[0]\n",
        "target = raw_data[1]\n",
        "\n",
        "X_train, X_test, y_train, y_test = train_test_split(data, target)\n",
        "\n",
        "# wpisz tutaj rozwiązanie\n",
        "clf = DecisionTreeClassifier(max_depth=6)\n",
        "clf.fit(X_train,y_train)\n",
        "acc =clf.score(X_test,y_test)\n",
        "print(f'Acurcy: {acc:.4f}')"
      ],
      "metadata": {
        "colab": {
          "base_uri": "https://localhost:8080/"
        },
        "id": "KSORh3rob8hP",
        "outputId": "5794ab18-b25e-468f-d95a-dedd88096bbb"
      },
      "execution_count": 25,
      "outputs": [
        {
          "output_type": "stream",
          "name": "stdout",
          "text": [
            "Acurcy: 0.9280\n"
          ]
        }
      ]
    },
    {
      "cell_type": "markdown",
      "source": [
        "Cwiczenie 49"
      ],
      "metadata": {
        "id": "i9IBBEOVcMNJ"
      }
    },
    {
      "cell_type": "code",
      "source": [
        "# wpisz tutaj rozwiązanie\n",
        "clf = DecisionTreeClassifier(max_depth=6,min_samples_leaf=6)\n",
        "clf.fit(X_train,y_train)\n",
        "acc =clf.score(X_test,y_test)\n",
        "print(f'Acurcy: {acc:.4f}')"
      ],
      "metadata": {
        "colab": {
          "base_uri": "https://localhost:8080/"
        },
        "id": "3rfzg5pJcNBC",
        "outputId": "663da993-9b6b-4a29-acb4-2882b53d3a6b"
      },
      "execution_count": 26,
      "outputs": [
        {
          "output_type": "stream",
          "name": "stdout",
          "text": [
            "Acurcy: 0.9300\n"
          ]
        }
      ]
    },
    {
      "cell_type": "markdown",
      "source": [
        "Cwiczenie 50"
      ],
      "metadata": {
        "id": "a5zKWm24cTtx"
      }
    },
    {
      "cell_type": "code",
      "source": [
        "import numpy as np\n",
        "import pandas as pd\n",
        "\n",
        "from sklearn.datasets import make_moons\n",
        "from sklearn.model_selection import train_test_split\n",
        "from sklearn.tree import DecisionTreeClassifier\n",
        "from sklearn.model_selection import GridSearchCV\n",
        "\n",
        "\n",
        "np.random.seed(42)\n",
        "raw_data = make_moons(n_samples=2000, noise=0.25, random_state=42)\n",
        "data = raw_data[0]\n",
        "target = raw_data[1]\n",
        "\n",
        "X_train, X_test, y_train, y_test = train_test_split(data, target)\n",
        "\n",
        "# wpisz tutaj rozwiązanie\n",
        "clf = DecisionTreeClassifier()\n",
        "params = {'max_depth': np.arange(1, 10),\n",
        "         'min_samples_leaf': [1, 2, 3, 4, 5, 6, 7, 8, 9, 10, 15, 20]}\n",
        "grid_search = GridSearchCV(clf, param_grid=params, scoring='accuracy', cv=5)\n",
        "grid_search.fit(X_train, y_train)\n",
        "print(grid_search.best_params_)\n"
      ],
      "metadata": {
        "colab": {
          "base_uri": "https://localhost:8080/"
        },
        "id": "S-kCzgnTcUih",
        "outputId": "f4657c0c-b557-4665-f718-7ce7859dc8ad"
      },
      "execution_count": 28,
      "outputs": [
        {
          "output_type": "stream",
          "name": "stdout",
          "text": [
            "{'max_depth': 6, 'min_samples_leaf': 6}\n"
          ]
        }
      ]
    }
  ]
}